{
 "cells": [
  {
   "cell_type": "markdown",
   "metadata": {},
   "source": [
    "## R script for OMOP to load Care Site data"
   ]
  },
  {
   "cell_type": "markdown",
   "metadata": {},
   "source": [
    "### Setup"
   ]
  },
  {
   "cell_type": "code",
   "execution_count": 78,
   "metadata": {},
   "outputs": [
    {
     "data": {
      "text/html": [
       "<ol class=list-inline>\n",
       "\t<li>'spatial_ref_sys'</li>\n",
       "\t<li>'geography_columns'</li>\n",
       "\t<li>'geometry_columns'</li>\n",
       "\t<li>'raster_columns'</li>\n",
       "\t<li>'raster_overviews'</li>\n",
       "\t<li>'hazard_point'</li>\n",
       "\t<li>'data_source'</li>\n",
       "\t<li>'dd_type'</li>\n",
       "\t<li>'dd_att_unit'</li>\n",
       "\t<li>'dd_att_name'</li>\n",
       "\t<li>'hz_att_category'</li>\n",
       "\t<li>'locations'</li>\n",
       "\t<li>'utm_grid'</li>\n",
       "\t<li>'hz_att_unit'</li>\n",
       "\t<li>'hz_att_name'</li>\n",
       "\t<li>'hz_type'</li>\n",
       "\t<li>'persons'</li>\n",
       "\t<li>'care_site'</li>\n",
       "\t<li>'dd_att_category'</li>\n",
       "\t<li>'hz_attribute'</li>\n",
       "\t<li>'location_history'</li>\n",
       "\t<li>'site_history'</li>\n",
       "\t<li>'dd_attribute'</li>\n",
       "\t<li>'demographic_division'</li>\n",
       "\t<li>'sites'</li>\n",
       "</ol>\n"
      ],
      "text/latex": [
       "\\begin{enumerate*}\n",
       "\\item 'spatial\\_ref\\_sys'\n",
       "\\item 'geography\\_columns'\n",
       "\\item 'geometry\\_columns'\n",
       "\\item 'raster\\_columns'\n",
       "\\item 'raster\\_overviews'\n",
       "\\item 'hazard\\_point'\n",
       "\\item 'data\\_source'\n",
       "\\item 'dd\\_type'\n",
       "\\item 'dd\\_att\\_unit'\n",
       "\\item 'dd\\_att\\_name'\n",
       "\\item 'hz\\_att\\_category'\n",
       "\\item 'locations'\n",
       "\\item 'utm\\_grid'\n",
       "\\item 'hz\\_att\\_unit'\n",
       "\\item 'hz\\_att\\_name'\n",
       "\\item 'hz\\_type'\n",
       "\\item 'persons'\n",
       "\\item 'care\\_site'\n",
       "\\item 'dd\\_att\\_category'\n",
       "\\item 'hz\\_attribute'\n",
       "\\item 'location\\_history'\n",
       "\\item 'site\\_history'\n",
       "\\item 'dd\\_attribute'\n",
       "\\item 'demographic\\_division'\n",
       "\\item 'sites'\n",
       "\\end{enumerate*}\n"
      ],
      "text/markdown": [
       "1. 'spatial_ref_sys'\n",
       "2. 'geography_columns'\n",
       "3. 'geometry_columns'\n",
       "4. 'raster_columns'\n",
       "5. 'raster_overviews'\n",
       "6. 'hazard_point'\n",
       "7. 'data_source'\n",
       "8. 'dd_type'\n",
       "9. 'dd_att_unit'\n",
       "10. 'dd_att_name'\n",
       "11. 'hz_att_category'\n",
       "12. 'locations'\n",
       "13. 'utm_grid'\n",
       "14. 'hz_att_unit'\n",
       "15. 'hz_att_name'\n",
       "16. 'hz_type'\n",
       "17. 'persons'\n",
       "18. 'care_site'\n",
       "19. 'dd_att_category'\n",
       "20. 'hz_attribute'\n",
       "21. 'location_history'\n",
       "22. 'site_history'\n",
       "23. 'dd_attribute'\n",
       "24. 'demographic_division'\n",
       "25. 'sites'\n",
       "\n",
       "\n"
      ],
      "text/plain": [
       " [1] \"spatial_ref_sys\"      \"geography_columns\"    \"geometry_columns\"    \n",
       " [4] \"raster_columns\"       \"raster_overviews\"     \"hazard_point\"        \n",
       " [7] \"data_source\"          \"dd_type\"              \"dd_att_unit\"         \n",
       "[10] \"dd_att_name\"          \"hz_att_category\"      \"locations\"           \n",
       "[13] \"utm_grid\"             \"hz_att_unit\"          \"hz_att_name\"         \n",
       "[16] \"hz_type\"              \"persons\"              \"care_site\"           \n",
       "[19] \"dd_att_category\"      \"hz_attribute\"         \"location_history\"    \n",
       "[22] \"site_history\"         \"dd_attribute\"         \"demographic_division\"\n",
       "[25] \"sites\"               "
      ]
     },
     "metadata": {},
     "output_type": "display_data"
    }
   ],
   "source": [
    "library(DBI)\n",
    "\n",
    "# make db connection\n",
    "# for format of database file see db/env/db_conf.txt\n",
    "db <- read.delim( '../../db/env/feta.txt', header=TRUE, sep=' ' )\n",
    "con <- dbConnect(RPostgres::Postgres(),\n",
    "                 dbname = toString(db$database[1]),\n",
    "                 host = toString(db$host[1]),\n",
    "                 port = 5432,\n",
    "                 user = toString(db$user),\n",
    "                 password = toString(db$pass))\n",
    "\n",
    "# check the connection\n",
    "dbListTables(con)"
   ]
  },
  {
   "cell_type": "markdown",
   "metadata": {},
   "source": [
    "## Load Site data"
   ]
  },
  {
   "cell_type": "code",
   "execution_count": null,
   "metadata": {},
   "outputs": [],
   "source": [
    "sitedata <- read.csv('uhealth-locations_clean.csv',header=FALSE)"
   ]
  },
  {
   "cell_type": "code",
   "execution_count": null,
   "metadata": {},
   "outputs": [],
   "source": [
    "for (i in 1:nrow(sitedata)) {\n",
    "    \n",
    "    # create location with geometry\n",
    "    sql_createsite <- 'INSERT INTO sites (\"site_id\",\"latitude\",\"longitude\",\"geom\") \n",
    "                       VALUES (DEFAULT,$1,$2,ST_SetSRID(ST_MakePoint($2,$1),4326))\n",
    "                       RETURNING site_id'\n",
    "    res <- dbSendQuery(con,sql_createsite)\n",
    "    dbBind(res, list(sitedata[i,2],sitedata[i,3]))\n",
    "    site_ID <- dbFetch(res)[1,1]\n",
    "    dbClearResult(res)\n",
    "\n",
    "    # create care site record\n",
    "    sql_createcaresite <- 'insert into care_site (\"care_site_id\",\"care_site_name\")\n",
    "                       values(DEFAULT,$1)\n",
    "                       returning care_site_id;'\n",
    "    res <- dbSendQuery(con,sql_createcaresite)\n",
    "    dbBind(res, list(sitedata[i,1]))\n",
    "    care_site_ID <- dbFetch(res)[1,1]\n",
    "    dbClearResult(res)\n",
    "    \n",
    "    # link care site and location\n",
    "    sql_createsitehist = 'INSERT INTO site_history (\"site_id\",\"entity_id\")\n",
    "                          VALUES ($1,$2);'\n",
    "    res <- dbSendQuery(con,sql_createsitehist)\n",
    "    dbBind(res, list(site_ID,care_site_ID))\n",
    "    dbClearResult(res)\n",
    "\n",
    "    print (paste(sitedata[i,1],sitedata[i,2],sitedata[i,3]))\n",
    "\n",
    "}"
   ]
  },
  {
   "cell_type": "code",
   "execution_count": null,
   "metadata": {},
   "outputs": [],
   "source": []
  }
 ],
 "metadata": {
  "kernelspec": {
   "display_name": "R",
   "language": "R",
   "name": "ir"
  },
  "language_info": {
   "codemirror_mode": "r",
   "file_extension": ".r",
   "mimetype": "text/x-r-source",
   "name": "R",
   "pygments_lexer": "r",
   "version": "4.0.3"
  }
 },
 "nbformat": 4,
 "nbformat_minor": 2
}
