{
 "cells": [
  {
   "cell_type": "code",
   "execution_count": 5,
   "id": "afabe478-fbb5-46c9-bb93-11a4acfc758a",
   "metadata": {},
   "outputs": [
    {
     "data": {
      "application/vnd.jupyter.widget-view+json": {
       "model_id": "ae1eab3984a64560a7fd4cf0072fb561",
       "version_major": 2,
       "version_minor": 0
      },
      "text/plain": [
       "interactive(children=(Dropdown(description='Column', options=('concept_code_1', 'concept_name_1', 'concept_cla…"
      ]
     },
     "metadata": {},
     "output_type": "display_data"
    },
    {
     "data": {
      "text/plain": [
       "<function __main__.search_and_filter(column_for_search, search_query)>"
      ]
     },
     "execution_count": 5,
     "metadata": {},
     "output_type": "execute_result"
    }
   ],
   "source": [
    "import pandas as pd\n",
    "from ipywidgets import interact, widgets, interactive_output\n",
    "from IPython.display import display, HTML\n",
    "\n",
    "# load the data\n",
    "url = \"https://raw.githubusercontent.com/OHDSI/GIS/gis_vocab_package_dev/vocabularies/gis_vocab_v2/GIS-prestage-for-testing.csv\"\n",
    "data = pd.read_csv(url)\n",
    "\n",
    "# define search columns\n",
    "SEARCH_COLUMNS = ['concept_code_1', 'concept_name_1', 'concept_class_id_1', 'vocabulary_id_1', \n",
    "                  'concept_code_2', 'concept_name_2', 'concept_class_id_2', 'vocabulary_id_2'] \n",
    "\n",
    "def search_and_filter(column_for_search, search_query):\n",
    "    result = data\n",
    "\n",
    "    # filter by search query\n",
    "    if search_query:\n",
    "        # convert the column to string\n",
    "        result[column_for_search] = result[column_for_search].astype(str)\n",
    "        \n",
    "        # exact matches first\n",
    "        exact_matches = result[result[column_for_search].str.lower() == search_query.lower()]\n",
    "        \n",
    "        # all matches containing the search query\n",
    "        all_matches = result[result[column_for_search].str.lower().str.contains(search_query.lower(), na=False)]\n",
    "        \n",
    "        # exclude exact matches from all matches\n",
    "        other_matches = all_matches[~all_matches.index.isin(exact_matches.index)]\n",
    "        \n",
    "        # sort other matches by length\n",
    "        other_matches = other_matches.assign(length=other_matches[column_for_search].str.len()).sort_values(by='length').drop(columns='length')\n",
    "\n",
    "        # concatenate exact matches and other matches\n",
    "        result = pd.concat([exact_matches, other_matches])\n",
    "\n",
    "    display(result)\n",
    "\n",
    "# widgets for input\n",
    "search_bar = widgets.Text(placeholder='Search', description='Search')\n",
    "column_for_search_input = widgets.Dropdown(\n",
    "    options=SEARCH_COLUMNS,\n",
    "    description='Column'\n",
    ")\n",
    "\n",
    "# interact function\n",
    "interact(search_and_filter, \n",
    "         column_for_search=column_for_search_input, \n",
    "         search_query=search_bar)"
   ]
  },
  {
   "cell_type": "code",
   "execution_count": 6,
   "id": "d9b482db-669b-4793-a34a-913ca53d53f1",
   "metadata": {},
   "outputs": [
    {
     "data": {
      "application/vnd.jupyter.widget-view+json": {
       "model_id": "fa54f8f09a2845f9be650e3f61dc6c4c",
       "version_major": 2,
       "version_minor": 0
      },
      "text/plain": [
       "HBox(children=(IntSlider(value=0, description='Row Index:', max=17239), IntText(value=0, description='Row Inde…"
      ]
     },
     "metadata": {},
     "output_type": "display_data"
    },
    {
     "data": {
      "application/vnd.jupyter.widget-view+json": {
       "model_id": "4f31f477d85f43008b9742f447509bfc",
       "version_major": 2,
       "version_minor": 0
      },
      "text/plain": [
       "Output()"
      ]
     },
     "metadata": {},
     "output_type": "display_data"
    }
   ],
   "source": [
    "# create slider and text widgets for row index to see all inforamtion about a term\n",
    "row_slider = widgets.IntSlider(min=0, max=len(data)-1, step=1, description='Row Index:')\n",
    "row_text = widgets.IntText(description='Row Index:')\n",
    "widgets.jslink((row_slider, 'value'), (row_text, 'value'))\n",
    "\n",
    "def browse_data(row_index):\n",
    "    row = data.iloc[row_index]\n",
    "    display(HTML(f\"<strong>Row index:</strong> {row_index}\"))\n",
    "    display(HTML(row.to_frame().to_html()))\n",
    "\n",
    "# create a combined widget display\n",
    "ui = widgets.HBox([row_slider, row_text])\n",
    "out = interactive_output(browse_data, {'row_index': row_slider})\n",
    "\n",
    "display(ui, out)"
   ]
  },
  {
   "cell_type": "code",
   "execution_count": null,
   "id": "90464cac-2eb9-4646-b58c-6b199a2d3644",
   "metadata": {},
   "outputs": [],
   "source": []
  }
 ],
 "metadata": {
  "kernelspec": {
   "display_name": "Python 3 (ipykernel)",
   "language": "python",
   "name": "python3"
  },
  "language_info": {
   "codemirror_mode": {
    "name": "ipython",
    "version": 3
   },
   "file_extension": ".py",
   "mimetype": "text/x-python",
   "name": "python",
   "nbconvert_exporter": "python",
   "pygments_lexer": "ipython3",
   "version": "3.10.7"
  }
 },
 "nbformat": 4,
 "nbformat_minor": 5
}
